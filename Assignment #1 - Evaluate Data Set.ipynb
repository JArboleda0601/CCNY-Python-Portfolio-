{
 "cells": [
  {
   "cell_type": "markdown",
   "id": "4256dc96",
   "metadata": {},
   "source": [
    "# Assignment #1: Evaluate Data Set\n",
    "\n",
    "In your first graded assignment for this course, you will find and evaluate a data set on a topic of your choosing. You will be given specific questions related to the data set, and you will also be tasked with importing the data from your data set into your Jupyter Notebook environment. \n",
    "\n",
    "## Choose a Broad Topic\n",
    "\n",
    "First, choose a topic of interest to you, such as a specific social issue, a political or cultural trend, a community, or a hobby or personal interest. Ideally, it should be something relatively broad that society or culture is having some sort of conversation about, or which many people think about on a regular basis. Possible examples might be:\n",
    "\n",
    "- Housing and rental prices in New York City\n",
    "- A popular genre of music\n",
    "- A sport\n",
    "- Food prices\n",
    "- Crime\n",
    "- Government spending\n",
    "- Popularity of movies or TV shows \n",
    "- Bestselling books\n",
    "\n",
    "## Find a Data Set\n",
    "\n",
    "Search for terms related to your topic on Google, both generally and by adding specific names of websites where data will commonly be found. The following websites are frequently places to find data sets, and it sometimes makes sense to both search directly on the site and to do regular Google searches with the site name:\n",
    "\n",
    "- [Google Data Set Search](https://datasetsearch.research.google.com/)\n",
    "- [GitHub](https://github.com/)\n",
    "- [Kaggle](https://www.kaggle.com/)\n",
    "- [Data.gov](https://www.data.gov/)\n",
    "\n",
    "For example, if your topic is bestselling books, you might try these searches on Google:\n",
    "\n",
    "- bestselling books data set\n",
    "- bestselling books data set kaggle\n",
    "- bestselling books data set github\n",
    "- bestselling books data set \n",
    "\n",
    "You're not likely to find bestselling books data on data.gov, but you might find a lot of info related to health, the economy, and demographics, since that's what the government is most concerned about."
   ]
  },
  {
   "cell_type": "markdown",
   "id": "1c1a8105",
   "metadata": {},
   "source": [
    "-----"
   ]
  },
  {
   "cell_type": "markdown",
   "id": "9be8caee",
   "metadata": {},
   "source": [
    "What is your topic? (Enter responses to questions like these in the cell provided below.)"
   ]
  },
  {
   "cell_type": "markdown",
   "id": "c9702a5b",
   "metadata": {},
   "source": [
    "WWE Champions"
   ]
  },
  {
   "cell_type": "markdown",
   "id": "e2b8f153",
   "metadata": {},
   "source": [
    "What drew you to this topic, or why did you choose it?"
   ]
  },
  {
   "cell_type": "markdown",
   "id": "359d76a7",
   "metadata": {},
   "source": [
    "I'm a big wrestling fan and consider it my favorite sport, and the history of the champions is quite extensive. The extensive history of said championships led me to believe it would be a good topic. "
   ]
  },
  {
   "cell_type": "markdown",
   "id": "20048152",
   "metadata": {},
   "source": [
    "## Choose a Data Set\n",
    "\n",
    "Choose a data set to use for the rest of this assignment. The data set doesn't need to be perfect, but ideally it should interest you and be in one of the discussed formats (CSV, TSV, Excel, JSON, .txt). If the data is in another format, either reach out to me to ask about it or choose another data set for this assignment. You may want to look ahead to the rest of this assignment to make sure nothing about the data set will make it difficult to answer the questions or to import the data."
   ]
  },
  {
   "cell_type": "markdown",
   "id": "5e869d8d",
   "metadata": {},
   "source": [
    "What is the name of your data set? Or provide a one-sentence description."
   ]
  },
  {
   "cell_type": "markdown",
   "id": "2ddf052f",
   "metadata": {},
   "source": [
    "\"Professional Wrestling Champions (WWE/WWF)\". This list contains champions, names, dates won, dates of death, and the arena/stadium in which their victory was recorded. "
   ]
  },
  {
   "cell_type": "markdown",
   "id": "dc525c3e",
   "metadata": {},
   "source": [
    "What is the URL of the page on which you found the data set? (Paste the full URL.)"
   ]
  },
  {
   "cell_type": "markdown",
   "id": "b7f6a2fa",
   "metadata": {},
   "source": [
    "https://www.kaggle.com/datasets/mdabbert/professional-wrestling-champions-wwewwf/data"
   ]
  },
  {
   "cell_type": "markdown",
   "id": "4d16c0fa",
   "metadata": {},
   "source": [
    "## Evaluation\n",
    "\n",
    "In this step, you will evaluate the data to the extent possible without using data science tools like Python or Pandas. You should download the data to your computer, and use both the data set itself as downloaded and the page you found it on to answer these questions. If you can't answer a question, write what you tried to do to answer it—don't give up right away, and try to think of other ways to answer the question. (In some cases, you can even contact the person who created the data set—if you do so, feel free to copy me on the email.)"
   ]
  },
  {
   "cell_type": "markdown",
   "id": "ba3a6174",
   "metadata": {},
   "source": [
    "What is the file format or file extension of the data set? Examples might be .csv (Comma Seperated Values), .tsv (Tab Separated Values), .xlsx (Excel workbook), .txt (plain text file), or JSON (JavaScript Object Notation)."
   ]
  },
  {
   "cell_type": "markdown",
   "id": "d17ed7a7",
   "metadata": {},
   "source": [
    ".csv"
   ]
  },
  {
   "cell_type": "markdown",
   "id": "6880764f",
   "metadata": {},
   "source": [
    "What is the size in megabytes (MB)or gigabytes (GB) of the data set?"
   ]
  },
  {
   "cell_type": "markdown",
   "id": "621b781a",
   "metadata": {},
   "source": [
    "0.047 MB"
   ]
  },
  {
   "cell_type": "markdown",
   "id": "e8ba770e",
   "metadata": {},
   "source": [
    "How many columns or fields is the data set? (Columns or fields are different types of data—for example, a book dataset might have title, author, and year as columns.)"
   ]
  },
  {
   "cell_type": "code",
   "execution_count": 1,
   "id": "2a55e76e-6666-41ac-8446-a724458a285d",
   "metadata": {},
   "outputs": [
    {
     "ename": "SyntaxError",
     "evalue": "invalid syntax (850868327.py, line 1)",
     "output_type": "error",
     "traceback": [
      "\u001b[1;36m  Cell \u001b[1;32mIn[1], line 1\u001b[1;36m\u001b[0m\n\u001b[1;33m    11 columns\u001b[0m\n\u001b[1;37m       ^\u001b[0m\n\u001b[1;31mSyntaxError\u001b[0m\u001b[1;31m:\u001b[0m invalid syntax\n"
     ]
    }
   ],
   "source": [
    "11 columns"
   ]
  },
  {
   "cell_type": "markdown",
   "id": "747cbbcb",
   "metadata": {},
   "source": [
    "List out the columns in the data set. (You can put each column on a line, or you can separate the columns with commas.)"
   ]
  },
  {
   "cell_type": "markdown",
   "id": "a63d096c",
   "metadata": {},
   "source": [
    "1. name\n",
    "2. reign\n",
    "3. days\n",
    "4. date\n",
    "5. event\n",
    "6. location\n",
    "7. link\n",
    "8. belt\n",
    "9. date_of_birth\n",
    "10. date_of_death\n",
    "11. cause_of_death"
   ]
  },
  {
   "cell_type": "markdown",
   "id": "799b491b",
   "metadata": {},
   "source": [
    "How many rows is the data set? (To use the book data set example again, each row might represent one book.)"
   ]
  },
  {
   "cell_type": "markdown",
   "id": "05e6b9ae",
   "metadata": {},
   "source": [
    "412 rows"
   ]
  },
  {
   "cell_type": "markdown",
   "id": "9b82706b",
   "metadata": {},
   "source": [
    "What types of data appear in the data set? (You can use Python terms, like \"integer,\" \"float,\" \"boolean,\" \"string,\" or you can use other descriptive terms, like \"numeric data\" or \"text data.\" Try to be as comprehensive as possible in your answer."
   ]
  },
  {
   "cell_type": "markdown",
   "id": "bded6448",
   "metadata": {},
   "source": [
    "In this data set, I can see multiple integers, strings, \"#\" to represent blank/undefined information."
   ]
  },
  {
   "cell_type": "markdown",
   "id": "ae154ab5",
   "metadata": {},
   "source": [
    "On initial inspection, does anything appear to be missing or wrong in the data set? (Don't spend too long on this.)"
   ]
  },
  {
   "cell_type": "markdown",
   "id": "89d2e870",
   "metadata": {},
   "source": [
    "On initial inspection, everything seems to be accurate and up to date, with history spanning from 1963 to modern day. However, many dates of birth, death, championship win dates, are missing. "
   ]
  },
  {
   "cell_type": "markdown",
   "id": "30d0ccf4",
   "metadata": {},
   "source": [
    "What kinds of questions could you answer with this data set? In answering this question, write at least one paragraph of at least 150 words."
   ]
  },
  {
   "cell_type": "markdown",
   "id": "3c01b671-6df5-4f46-ad83-932368f1f5ba",
   "metadata": {},
   "source": [
    "Multiple questions can be answered from this data set. For example, because of how big and extensive this data set is, big questions such as being able to name as many WWE champions as possible is a question that can be answered. Not only does this fact go for the male champions, but the female champions are included on this list as well. Other important questions such as how long a specific wrestler's title reign lasted, how many times a certain championship was won by certain wrestlers, when and how a specific wrestler was born/died, where and when they won their title, and what specific event they won. From looking at the data set on Kaggle's website, percentages show up for wrestlers who've frequented the list from the amount of titles they've won. Any questions unable to be answered about certain champions just from looking at the list can be easily found as Wikipedia articles with more information about the wrestlers are embedded into the spreadsheet. "
   ]
  },
  {
   "cell_type": "markdown",
   "id": "5fbbecb7",
   "metadata": {},
   "source": [
    "Do you see any issues or limitations with the data set? Alternatively, what do you wish was included in the data set that is not included? (Write at least one paragraph of at least 150 words.)"
   ]
  },
  {
   "cell_type": "markdown",
   "id": "e4ab6eff",
   "metadata": {},
   "source": [
    "Although accurate, there are a few discrepancies in the data. For one, the data caps at 2019, omitting multiple title reigns, changes, retains, repeat champions, etc. This is obviously due to the time in which this data set was created. Secondly, a lot of dates of championship wins, dates of birth, and dates of death are omitted. The only issues and limitations in the data set really come from the time the data set was created as well as missing information. I wish that in some way the data set was able to be updated to record the title reigns of now. A lot has happened in the wrestling business that's missing from this data set. Multiple shows, legendary title reigns, untimely passings, wrestler returns, firings, etc. Lastly, other big championships such as the Tag Team titles are missing. A couple of updates would be the only thing that list really needs to help the data set be more up to date and more complete. "
   ]
  },
  {
   "cell_type": "markdown",
   "id": "18f10308",
   "metadata": {},
   "source": [
    "## Reading the Data in Python\n",
    "\n",
    "Using as many cells as you need in the rest of this notebook, load the data into Python. You will probably want to use Pandas to load the data. Some example code is provided for you below. \n",
    "\n",
    "To use the example code in a Jupyter Notebook on your computer, you will need to make sure your data set is in the same folder as your notebook, and that you get the filename *exactly* right, including the extension. Here is example code for a Jupyter Notebook—this is just to get you started, and you are responsible for getting this working, which may involve looking up how to import data using Python and Pandas on Google.\n",
    "\n",
    "```python\n",
    "import pandas\n",
    "\n",
    "df = pandas.read_csv('name_of_data_file.csv')\n",
    "\n",
    "df\n",
    "```\n",
    "\n",
    "If your data is in another format, you will need to use the Pandas function related to that format. For example, to import JSON:\n",
    "\n",
    "```python\n",
    "import pandas\n",
    "\n",
    "df = pandas.read_json('name_of_data_file.json')\n",
    "\n",
    "df\n",
    "```\n",
    "\n",
    "Use as much space as you need below to import the file into Pandas (as above). Make sure the dataframe (df) is shown as an output at the end.\n"
   ]
  },
  {
   "cell_type": "code",
   "execution_count": 4,
   "id": "96b0db41",
   "metadata": {},
   "outputs": [],
   "source": [
    "import pandas"
   ]
  },
  {
   "cell_type": "code",
   "execution_count": 10,
   "id": "dae44fac",
   "metadata": {},
   "outputs": [
    {
     "data": {
      "text/html": [
       "<div>\n",
       "<style scoped>\n",
       "    .dataframe tbody tr th:only-of-type {\n",
       "        vertical-align: middle;\n",
       "    }\n",
       "\n",
       "    .dataframe tbody tr th {\n",
       "        vertical-align: top;\n",
       "    }\n",
       "\n",
       "    .dataframe thead th {\n",
       "        text-align: right;\n",
       "    }\n",
       "</style>\n",
       "<table border=\"1\" class=\"dataframe\">\n",
       "  <thead>\n",
       "    <tr style=\"text-align: right;\">\n",
       "      <th></th>\n",
       "      <th>name</th>\n",
       "      <th>reign</th>\n",
       "      <th>days</th>\n",
       "      <th>date</th>\n",
       "      <th>event</th>\n",
       "      <th>location</th>\n",
       "      <th>link</th>\n",
       "      <th>belt</th>\n",
       "      <th>date_of_birth</th>\n",
       "      <th>date_of_death</th>\n",
       "      <th>cause_of_death</th>\n",
       "    </tr>\n",
       "  </thead>\n",
       "  <tbody>\n",
       "    <tr>\n",
       "      <th>0</th>\n",
       "      <td>Buddy Rogers</td>\n",
       "      <td>1</td>\n",
       "      <td>36</td>\n",
       "      <td>11-Apr-63</td>\n",
       "      <td>House show</td>\n",
       "      <td>Washington, D.C.</td>\n",
       "      <td>/wiki/Buddy_Rogers_(wrestler)</td>\n",
       "      <td>WWE Championship</td>\n",
       "      <td>2/20/1921</td>\n",
       "      <td>6/26/1992</td>\n",
       "      <td>NaN</td>\n",
       "    </tr>\n",
       "    <tr>\n",
       "      <th>1</th>\n",
       "      <td>Bruno Sammartino</td>\n",
       "      <td>1</td>\n",
       "      <td>2803</td>\n",
       "      <td>17-May-63</td>\n",
       "      <td>House show</td>\n",
       "      <td>New York, NY</td>\n",
       "      <td>/wiki/Bruno_Sammartino</td>\n",
       "      <td>WWE Championship</td>\n",
       "      <td>10/6/1935</td>\n",
       "      <td>4/18/2018</td>\n",
       "      <td>Multiple organ failure due to heart problems[2]</td>\n",
       "    </tr>\n",
       "    <tr>\n",
       "      <th>2</th>\n",
       "      <td>Ivan Koloff</td>\n",
       "      <td>1</td>\n",
       "      <td>21</td>\n",
       "      <td>18-Jan-71</td>\n",
       "      <td>House show</td>\n",
       "      <td>New York, NY</td>\n",
       "      <td>/wiki/Ivan_Koloff</td>\n",
       "      <td>WWE Championship</td>\n",
       "      <td>8/25/1942</td>\n",
       "      <td>2/18/2017</td>\n",
       "      <td>Liver cancer</td>\n",
       "    </tr>\n",
       "    <tr>\n",
       "      <th>3</th>\n",
       "      <td>Pedro Morales</td>\n",
       "      <td>1</td>\n",
       "      <td>1027</td>\n",
       "      <td>8-Feb-71</td>\n",
       "      <td>House show</td>\n",
       "      <td>New York, NY</td>\n",
       "      <td>/wiki/Pedro_Morales</td>\n",
       "      <td>WWE Championship</td>\n",
       "      <td>10/22/1942</td>\n",
       "      <td>2/12/2019</td>\n",
       "      <td>NaN</td>\n",
       "    </tr>\n",
       "    <tr>\n",
       "      <th>4</th>\n",
       "      <td>Stan Stasiak</td>\n",
       "      <td>1</td>\n",
       "      <td>9</td>\n",
       "      <td>1-Dec-73</td>\n",
       "      <td>House show</td>\n",
       "      <td>Philadelphia, PA</td>\n",
       "      <td>/wiki/Stan_Stasiak</td>\n",
       "      <td>WWE Championship</td>\n",
       "      <td>4/13/1937</td>\n",
       "      <td>6/19/1997</td>\n",
       "      <td>Heart failure</td>\n",
       "    </tr>\n",
       "    <tr>\n",
       "      <th>...</th>\n",
       "      <td>...</td>\n",
       "      <td>...</td>\n",
       "      <td>...</td>\n",
       "      <td>...</td>\n",
       "      <td>...</td>\n",
       "      <td>...</td>\n",
       "      <td>...</td>\n",
       "      <td>...</td>\n",
       "      <td>...</td>\n",
       "      <td>...</td>\n",
       "      <td>...</td>\n",
       "    </tr>\n",
       "    <tr>\n",
       "      <th>407</th>\n",
       "      <td>Becky Lynch</td>\n",
       "      <td>3</td>\n",
       "      <td>41</td>\n",
       "      <td>8-Apr-19</td>\n",
       "      <td>WrestleMania 35</td>\n",
       "      <td>East Rutherford, NJ</td>\n",
       "      <td>/wiki/Becky_Lynch</td>\n",
       "      <td>WWE SmackDown Women's Championship</td>\n",
       "      <td>1/30/1987</td>\n",
       "      <td>NaN</td>\n",
       "      <td>NaN</td>\n",
       "    </tr>\n",
       "    <tr>\n",
       "      <th>408</th>\n",
       "      <td>Charlotte Flair</td>\n",
       "      <td>4</td>\n",
       "      <td>0</td>\n",
       "      <td>19-May-19</td>\n",
       "      <td>Money in the Bank</td>\n",
       "      <td>Hartford, CT</td>\n",
       "      <td>/wiki/Charlotte_Flair</td>\n",
       "      <td>WWE SmackDown Women's Championship</td>\n",
       "      <td>4/5/1986</td>\n",
       "      <td>NaN</td>\n",
       "      <td>NaN</td>\n",
       "    </tr>\n",
       "    <tr>\n",
       "      <th>409</th>\n",
       "      <td>Bayley</td>\n",
       "      <td>1</td>\n",
       "      <td>140</td>\n",
       "      <td>19-May-19</td>\n",
       "      <td>Money in the Bank</td>\n",
       "      <td>Hartford, CT</td>\n",
       "      <td>/wiki/Bayley_(wrestler)</td>\n",
       "      <td>WWE SmackDown Women's Championship</td>\n",
       "      <td>6/15/1989</td>\n",
       "      <td>NaN</td>\n",
       "      <td>NaN</td>\n",
       "    </tr>\n",
       "    <tr>\n",
       "      <th>410</th>\n",
       "      <td>Charlotte Flair</td>\n",
       "      <td>5</td>\n",
       "      <td>5</td>\n",
       "      <td>6-Oct-19</td>\n",
       "      <td>Hell in a Cell</td>\n",
       "      <td>Sacramento, CA</td>\n",
       "      <td>/wiki/Charlotte_Flair</td>\n",
       "      <td>WWE SmackDown Women's Championship</td>\n",
       "      <td>4/5/1986</td>\n",
       "      <td>NaN</td>\n",
       "      <td>NaN</td>\n",
       "    </tr>\n",
       "    <tr>\n",
       "      <th>411</th>\n",
       "      <td>Bayley</td>\n",
       "      <td>2</td>\n",
       "      <td>247</td>\n",
       "      <td>11-Oct-19</td>\n",
       "      <td>SmackDown</td>\n",
       "      <td>Paradise, NV</td>\n",
       "      <td>/wiki/Bayley_(wrestler)</td>\n",
       "      <td>WWE SmackDown Women's Championship</td>\n",
       "      <td>6/15/1989</td>\n",
       "      <td>NaN</td>\n",
       "      <td>NaN</td>\n",
       "    </tr>\n",
       "  </tbody>\n",
       "</table>\n",
       "<p>412 rows × 11 columns</p>\n",
       "</div>"
      ],
      "text/plain": [
       "                 name  reign  days       date              event  \\\n",
       "0        Buddy Rogers      1    36  11-Apr-63         House show   \n",
       "1    Bruno Sammartino      1  2803  17-May-63         House show   \n",
       "2         Ivan Koloff      1    21  18-Jan-71         House show   \n",
       "3       Pedro Morales      1  1027   8-Feb-71         House show   \n",
       "4        Stan Stasiak      1     9   1-Dec-73         House show   \n",
       "..                ...    ...   ...        ...                ...   \n",
       "407       Becky Lynch      3    41   8-Apr-19    WrestleMania 35   \n",
       "408   Charlotte Flair      4     0  19-May-19  Money in the Bank   \n",
       "409            Bayley      1   140  19-May-19  Money in the Bank   \n",
       "410   Charlotte Flair      5     5   6-Oct-19     Hell in a Cell   \n",
       "411            Bayley      2   247  11-Oct-19          SmackDown   \n",
       "\n",
       "                location                           link  \\\n",
       "0       Washington, D.C.  /wiki/Buddy_Rogers_(wrestler)   \n",
       "1           New York, NY         /wiki/Bruno_Sammartino   \n",
       "2           New York, NY              /wiki/Ivan_Koloff   \n",
       "3           New York, NY            /wiki/Pedro_Morales   \n",
       "4       Philadelphia, PA             /wiki/Stan_Stasiak   \n",
       "..                   ...                            ...   \n",
       "407  East Rutherford, NJ              /wiki/Becky_Lynch   \n",
       "408         Hartford, CT          /wiki/Charlotte_Flair   \n",
       "409         Hartford, CT        /wiki/Bayley_(wrestler)   \n",
       "410       Sacramento, CA          /wiki/Charlotte_Flair   \n",
       "411         Paradise, NV        /wiki/Bayley_(wrestler)   \n",
       "\n",
       "                                   belt date_of_birth date_of_death  \\\n",
       "0                      WWE Championship     2/20/1921     6/26/1992   \n",
       "1                      WWE Championship     10/6/1935     4/18/2018   \n",
       "2                      WWE Championship     8/25/1942     2/18/2017   \n",
       "3                      WWE Championship    10/22/1942     2/12/2019   \n",
       "4                      WWE Championship     4/13/1937     6/19/1997   \n",
       "..                                  ...           ...           ...   \n",
       "407  WWE SmackDown Women's Championship     1/30/1987           NaN   \n",
       "408  WWE SmackDown Women's Championship      4/5/1986           NaN   \n",
       "409  WWE SmackDown Women's Championship     6/15/1989           NaN   \n",
       "410  WWE SmackDown Women's Championship      4/5/1986           NaN   \n",
       "411  WWE SmackDown Women's Championship     6/15/1989           NaN   \n",
       "\n",
       "                                      cause_of_death  \n",
       "0                                                NaN  \n",
       "1    Multiple organ failure due to heart problems[2]  \n",
       "2                                       Liver cancer  \n",
       "3                                                NaN  \n",
       "4                                      Heart failure  \n",
       "..                                               ...  \n",
       "407                                              NaN  \n",
       "408                                              NaN  \n",
       "409                                              NaN  \n",
       "410                                              NaN  \n",
       "411                                              NaN  \n",
       "\n",
       "[412 rows x 11 columns]"
      ]
     },
     "execution_count": 10,
     "metadata": {},
     "output_type": "execute_result"
    }
   ],
   "source": [
    "df = pandas.read_csv('data.csv')\n",
    "\n",
    "df"
   ]
  },
  {
   "cell_type": "code",
   "execution_count": null,
   "id": "d9d1ddfd-fcef-481c-ae85-a810fd493eb0",
   "metadata": {},
   "outputs": [],
   "source": []
  }
 ],
 "metadata": {
  "kernelspec": {
   "display_name": "Python 3 (ipykernel)",
   "language": "python",
   "name": "python3"
  },
  "language_info": {
   "codemirror_mode": {
    "name": "ipython",
    "version": 3
   },
   "file_extension": ".py",
   "mimetype": "text/x-python",
   "name": "python",
   "nbconvert_exporter": "python",
   "pygments_lexer": "ipython3",
   "version": "3.12.4"
  }
 },
 "nbformat": 4,
 "nbformat_minor": 5
}
