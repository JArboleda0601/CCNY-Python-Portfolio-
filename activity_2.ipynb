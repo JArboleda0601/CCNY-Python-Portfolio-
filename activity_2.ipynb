{
 "cells": [
  {
   "cell_type": "markdown",
   "id": "26550237-15cd-45e2-81e1-556bad05a917",
   "metadata": {},
   "source": [
    "# Activity 2: Practicing with Pandas"
   ]
  },
  {
   "cell_type": "markdown",
   "id": "4765796a-69ae-4a80-9529-2843912df581",
   "metadata": {},
   "source": [
    "For this activity, we will assume the role of a data scientist in the search for and evaluation of public datasets. In turn, pay close attention to the dataset you choose for counter narratives or nonapparent political values, gaps or underrepresented perspectives. \n",
    "\n",
    "Please make sure you open this file in Jupyter Notebook -- you will have to open Jupyter Notebook first before being able to edit the file. \n",
    "\n",
    "Please make sure you **print your output.** You may need to use ```print``` for your output to be displayed.\n",
    "\n",
    "-----\n",
    "## Instructions\n",
    "1. Create an \"Activities\" folder in your Python Portfolio folder;\n",
    "2. Write about your progress on today's activity in your weekly lab reflection."
   ]
  },
  {
   "cell_type": "markdown",
   "id": "b87c910a-66ee-4166-9737-546b68d3e61e",
   "metadata": {},
   "source": [
    "## Data biography: Trans-Atlantic Slave Trade dataset\n",
    "\n",
    "To complete the assignment, please make sure you download the dataset: [https://csc10800.github.io/assets/datasets/Trans-Atlantic-Slave-Trade_Americas.csv](https://csc10800.github.io/assets/datasets/Trans-Atlantic-Slave-Trade_Americas.csv)."
   ]
  },
  {
   "cell_type": "markdown",
   "id": "8749ea10-27e1-4210-b638-abe62a45f609",
   "metadata": {},
   "source": [
    "### 1. Before you begin your exploration, you will provide a short data biography (1 - 2 paragraphs) on the dataset that addresses **where the data came from, who collected it, and the original intention(s) for its collection.**\n",
    "\n",
    "You may find the following sources useful for your research:\n",
    "* [Slave Voyages' Trans-Atlantic Slave Trade methodology](https://www.slavevoyages.org/voyage/about#methodology/introduction/0/en/)\n",
    "    * You may find the sections: Introduction, Coverage of the Slave Trade, and Nature of Sources particularly useful.\n",
    "* [Slave Voyages' About](https://www.slavevoyages.org/about/about#)\n",
    "* [Jamelle Bouie's We Still Can’t See American Slavery for What It Was](https://csc10800.github.io/assets/pdf/Bouie_we_still_cant_see_american_slavery_for_what_it_is.pdf)"
   ]
  },
  {
   "cell_type": "markdown",
   "id": "a40ee643-dbe8-4059-8953-95c11f938235",
   "metadata": {
    "jp-MarkdownHeadingCollapsed": true
   },
   "source": [
    "This data is meant to address and depict information on the Trans-Atlantic Slave Trade in the Americas. \n"
   ]
  },
  {
   "cell_type": "markdown",
   "id": "1dc86a86-51b2-4bcf-8ad4-18901364e363",
   "metadata": {},
   "source": [
    "-----"
   ]
  },
  {
   "cell_type": "markdown",
   "id": "4769c8e1-a906-4f5d-9b34-0ab30e613d81",
   "metadata": {},
   "source": [
    "## Download and explore dataset\n",
    "\n",
    "As we have been practicing in class, the questions that follow will require you to consider what output you will need before running the appropriate python codes. \n",
    "\n",
    "To ensure your code runs, please remember to load ```pandas``` and the ```Trans-Atlantic-Slave-Trade_Americas.csv``` file into the jupyter notebook environment."
   ]
  },
  {
   "cell_type": "code",
   "execution_count": 32,
   "id": "c79198e7-340c-4f70-bdb6-4bc50750a6f3",
   "metadata": {},
   "outputs": [],
   "source": [
    "\n",
    "\n",
    "import pandas as pd\n",
    "\n",
    "df = pd.read_csv('Trans-Atlantic-Slave-Trade_Americas.csv')"
   ]
  },
  {
   "cell_type": "markdown",
   "id": "1dd42939-8b33-40be-9633-877c4142dcdb",
   "metadata": {},
   "source": [
    "### 2. How many rows of data does the dataset contain?"
   ]
  },
  {
   "cell_type": "code",
   "execution_count": 35,
   "id": "a3afd56e-4d46-4d01-be8b-a65380a1f681",
   "metadata": {},
   "outputs": [
    {
     "name": "stdout",
     "output_type": "stream",
     "text": [
      "20779\n"
     ]
    }
   ],
   "source": [
    "df\n",
    "rows = len(df)\n",
    "print(rows)\n"
   ]
  },
  {
   "cell_type": "code",
   "execution_count": 37,
   "id": "6401a307-76c0-49cf-89b1-28aebeb538ae",
   "metadata": {},
   "outputs": [
    {
     "name": "stdout",
     "output_type": "stream",
     "text": [
      "The dataset has 20779 rows\n"
     ]
    }
   ],
   "source": [
    "print(f\"The dataset has {rows} rows\")"
   ]
  },
  {
   "cell_type": "markdown",
   "id": "91143422-e360-4be0-8bae-afd42d835260",
   "metadata": {},
   "source": [
    "39 rows."
   ]
  },
  {
   "cell_type": "markdown",
   "id": "141f7b97-6853-4382-9bca-12be87c446b3",
   "metadata": {},
   "source": [
    "### 3. Are the data types for each column appropriate? Please explain how they are/not approrpiate for your analysis."
   ]
  },
  {
   "cell_type": "code",
   "execution_count": 41,
   "id": "86954445-2c28-4d2b-be85-aa4cd7f7cf0f",
   "metadata": {},
   "outputs": [
    {
     "name": "stdout",
     "output_type": "stream",
     "text": [
      "<class 'pandas.core.frame.DataFrame'>\n",
      "RangeIndex: 20779 entries, 0 to 20778\n",
      "Data columns (total 14 columns):\n",
      " #   Column             Non-Null Count  Dtype  \n",
      "---  ------             --------------  -----  \n",
      " 0   year_of_arrival    20779 non-null  int64  \n",
      " 1   flag               19613 non-null  object \n",
      " 2   place_of_purchase  20701 non-null  object \n",
      " 3   place_of_landing   20779 non-null  object \n",
      " 4   percent_women      2910 non-null   float64\n",
      " 5   percent_children   2948 non-null   float64\n",
      " 6   percent_men        2910 non-null   float64\n",
      " 7   total_embarked     20760 non-null  float64\n",
      " 8   total_disembarked  20757 non-null  float64\n",
      " 9   resistance_label   376 non-null    object \n",
      " 10  vessel_name        20779 non-null  object \n",
      " 11  captain's_name     19434 non-null  object \n",
      " 12  voyage_id          20779 non-null  int64  \n",
      " 13  sources            20779 non-null  object \n",
      "dtypes: float64(5), int64(2), object(7)\n",
      "memory usage: 2.2+ MB\n"
     ]
    }
   ],
   "source": [
    "df.info()"
   ]
  },
  {
   "cell_type": "markdown",
   "id": "37658740-c9ca-465f-a3d0-a33da65ecb91",
   "metadata": {},
   "source": [
    "### 4. What is the overall average proportion of ```percent_women```, ```percent_children```, ```percent_men```?"
   ]
  },
  {
   "cell_type": "code",
   "execution_count": 72,
   "id": "a3b3b700-8339-49c2-9ca1-f35858f86e7e",
   "metadata": {},
   "outputs": [],
   "source": [
    "#Your code \n",
    "average_percent_women = df['percent_women'].mean()\n",
    "average_percent_children = df['percent_women'].mean()\n",
    "average_percent_men = df['percent_women'].mean()"
   ]
  },
  {
   "cell_type": "code",
   "execution_count": 74,
   "id": "ae9c3386-1c10-4e5e-a9d2-f2b747fc985f",
   "metadata": {},
   "outputs": [],
   "source": [
    "import math"
   ]
  },
  {
   "cell_type": "code",
   "execution_count": 78,
   "id": "c7b797d5-ad9b-44a4-883c-627041c5c6e9",
   "metadata": {},
   "outputs": [
    {
     "name": "stdout",
     "output_type": "stream",
     "text": [
      "There are 27 % women in our dataset\n",
      "There are 27 % children in our dataset\n",
      "There are 27.409773997457044 % men in our dataset\n"
     ]
    }
   ],
   "source": [
    "print(f\"There are {math.floor(average_percent_women * 100)} % women in our dataset\")\n",
    "print(f\"There are {math.floor(average_percent_children * 100)} % children in our dataset\")\n",
    "print(f\"There are {average_percent_men * 100} % men in our dataset\")"
   ]
  },
  {
   "cell_type": "code",
   "execution_count": 56,
   "id": "0db4db99-84b1-4712-a4e9-5ef411b6078a",
   "metadata": {},
   "outputs": [],
   "source": [
    "median_percent_men = df ['percent_men'].median()"
   ]
  },
  {
   "cell_type": "markdown",
   "id": "b4e966c1-1247-4cbc-9a74-0553469d9beb",
   "metadata": {},
   "source": [
    "# ^ Finding the average of numerical data: `.mean()`"
   ]
  },
  {
   "cell_type": "markdown",
   "id": "8b2269c7-c46c-44bb-8333-1d8ba9022a61",
   "metadata": {},
   "source": [
    "### 5. How many of the column values for ```percent_women```, ```percent_children```, ```percent_men``` are left blank? Suggest 1 reason why majority of the values in these columns are blank."
   ]
  },
  {
   "cell_type": "code",
   "execution_count": null,
   "id": "a224a0e4-0e56-40f9-aa41-094882deb499",
   "metadata": {},
   "outputs": [],
   "source": [
    "#Your code here"
   ]
  },
  {
   "cell_type": "markdown",
   "id": "23d4de2a-aa0d-4165-bac4-1b53a8ee2030",
   "metadata": {},
   "source": [
    "**Double click to edit cell**     \n",
    "Please type your answer here."
   ]
  },
  {
   "cell_type": "markdown",
   "id": "43584358-9a8f-45a5-8383-5bf823d8c9be",
   "metadata": {},
   "source": [
    "### 6. Display all duplicated rows and remove the duplicates. Check that the duplicates were successfully removed. Please also suggest a reason why we would remove duplicates for our analysis.\n",
    "\n",
    "**Level-up**: How many duplicated rows do we have? Recall the methods we have used to help us count things."
   ]
  },
  {
   "cell_type": "code",
   "execution_count": 1,
   "id": "6fffb099-3bb0-47d9-a75b-d5255d89ab7a",
   "metadata": {},
   "outputs": [],
   "source": [
    "#Your code here"
   ]
  },
  {
   "cell_type": "markdown",
   "id": "301e9714-6ce7-44cf-8bef-d497b30f511d",
   "metadata": {},
   "source": [
    "**Double click to edit cell**     \n",
    "Please type your answer here."
   ]
  },
  {
   "cell_type": "markdown",
   "id": "7ff8bfcd-4573-43a4-b58c-fb6d48516720",
   "metadata": {},
   "source": [
    "### 7. Please identify the **top 5 most common ports of arrival**.\n",
    "\n",
    "**Hint:** Check the columns ```place_of_landing```."
   ]
  },
  {
   "cell_type": "code",
   "execution_count": 62,
   "id": "56a1e1aa-7fb3-497c-8055-bd1a5deca2f7",
   "metadata": {},
   "outputs": [
    {
     "data": {
      "text/plain": [
       "place_of_landing\n",
       "Barbados, port unspecified    2041\n",
       "Jamaica, port unspecified     1715\n",
       "Kingston                      1627\n",
       "Havana                        1327\n",
       "Cap Francais                  1127\n",
       "Name: count, dtype: int64"
      ]
     },
     "execution_count": 62,
     "metadata": {},
     "output_type": "execute_result"
    }
   ],
   "source": [
    "top_5_ports = df['place_of_landing'].value_counts()\n",
    "#slicing to take only first 5\n",
    "top_5_ports[0:5]"
   ]
  },
  {
   "cell_type": "code",
   "execution_count": 70,
   "id": "45ba9258-a50e-42dc-9290-f3ea370e971d",
   "metadata": {},
   "outputs": [
    {
     "data": {
      "text/plain": [
       "<Axes: xlabel='place_of_landing'>"
      ]
     },
     "execution_count": 70,
     "metadata": {},
     "output_type": "execute_result"
    },
    {
     "data": {
      "image/png": "[encoded data removed]",
      "text/plain": [
       "<Figure size 640x480 with 1 Axes>"
      ]
     },
     "metadata": {},
     "output_type": "display_data"
    }
   ],
   "source": [
    "top_5_ports[0:5].plot(kind ='pie')"
   ]
  },
  {
   "cell_type": "markdown",
   "id": "c19dd975-9347-41f5-86e8-992b7bd26591",
   "metadata": {},
   "source": [
    "### 8. Please plot the **top 5 enslavers/captors** from this dataset. Please choose the appropriate visualization (e.g. pie chart, bar chart) to display your finding."
   ]
  },
  {
   "cell_type": "code",
   "execution_count": 3,
   "id": "ab225554-bc39-4841-ac90-26ddca5cae0f",
   "metadata": {},
   "outputs": [],
   "source": [
    "#Your code here"
   ]
  },
  {
   "cell_type": "markdown",
   "id": "30b9934a-80f7-495e-bcb8-3210c57ce3a7",
   "metadata": {},
   "source": [
    "-----"
   ]
  },
  {
   "cell_type": "markdown",
   "id": "b24b58ce-3f90-4b1a-96b1-00b1b14385d7",
   "metadata": {},
   "source": [
    "## Checking-in on exploration\n"
   ]
  },
  {
   "cell_type": "markdown",
   "id": "7e04fc1a-4956-4f0e-a90b-c5b2e1f66199",
   "metadata": {},
   "source": [
    "### 9. Having briefly explored the dataset, what further questions have emerged as you explored this dataset?    \n",
    "\n",
    "Please share your thoughts in a few sentences."
   ]
  },
  {
   "cell_type": "markdown",
   "id": "28712b05-f6a8-4a12-897c-949f96aaa466",
   "metadata": {},
   "source": [
    "**Double click to edit cell**     \n",
    "Please type your answer here."
   ]
  },
  {
   "cell_type": "markdown",
   "id": "2721385e-5112-4bd0-a3da-deb1f793405a",
   "metadata": {},
   "source": [
    "-----"
   ]
  },
  {
   "cell_type": "markdown",
   "id": "95ee26ad-cefa-4f9e-9e9f-6a635fb8900a",
   "metadata": {},
   "source": [
    "## Side quest challenge\n",
    "\n",
    "The side quest challenge is for extra credit. You can still get full credit for this activity even if you do not complete this challenge."
   ]
  },
  {
   "cell_type": "markdown",
   "id": "7699e2e7-deb7-411a-907b-e0b6760d3e14",
   "metadata": {},
   "source": [
    "### 1. Which enslaver/captor had the highest difference between the total number of people who embarked and disembarked?\n",
    "\n",
    "**Hint:** You may need to [add a column](https://github.com/GCDigitalFellows/intro-pandas-dri-2022/blob/main/README.md#8-rename-select-drop-and-add-new-columns) to calculate the difference, use the [```.groupby```, ```.count()``` and ```.sort_values``` methods](https://github.com/GCDigitalFellows/intro-pandas-dri-2022/blob/main/README.md#9-sort-columns-groupby-columns--count-values) for this challenge. "
   ]
  },
  {
   "cell_type": "code",
   "execution_count": null,
   "id": "f2f16094-80b6-4767-ba8e-a6b0784a63b6",
   "metadata": {},
   "outputs": [],
   "source": []
  },
  {
   "cell_type": "markdown",
   "id": "8a7e104a",
   "metadata": {},
   "source": [
    "**Double click to edit cell**     \n",
    "Please type your answer here."
   ]
  }
 ],
 "metadata": {
  "kernelspec": {
   "display_name": "Python 3 (ipykernel)",
   "language": "python",
   "name": "python3"
  },
  "language_info": {
   "codemirror_mode": {
    "name": "ipython",
    "version": 3
   },
   "file_extension": ".py",
   "mimetype": "text/x-python",
   "name": "python",
   "nbconvert_exporter": "python",
   "pygments_lexer": "ipython3",
   "version": "3.12.4"
  }
 },
 "nbformat": 4,
 "nbformat_minor": 5
}
